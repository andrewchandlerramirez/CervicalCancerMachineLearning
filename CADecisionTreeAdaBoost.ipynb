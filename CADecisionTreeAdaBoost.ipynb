{
 "cells": [
  {
   "cell_type": "code",
   "execution_count": 9,
   "metadata": {},
   "outputs": [],
   "source": [
    "import numpy as np\n",
    "\n",
    "\n",
    "#taking training and test file, then seperating them into inputs and outputs\n",
    "data_file = open(\"sobar-72.csv\", 'r')\n",
    "data_list = data_file.readlines()\n",
    "data_file.close()\n",
    "\n",
    "\n",
    "xdata = []\n",
    "ydata = []\n",
    "for line in data_list[1:]:\n",
    "    values = line.split(',')\n",
    "    xdata.append([float(x) for x in values[0:len(values)-1]])\n",
    "    ydata.append(int(values[len(values)-1]))\n",
    "\n"
   ]
  },
  {
   "cell_type": "code",
   "execution_count": 10,
   "metadata": {},
   "outputs": [],
   "source": [
    "from sklearn.model_selection import train_test_split\n",
    "\n",
    "xtrain,xtest,ytrain,ytest = train_test_split(xdata,ydata,test_size= 0.2)"
   ]
  },
  {
   "cell_type": "code",
   "execution_count": 11,
   "metadata": {},
   "outputs": [],
   "source": [
    "from sklearn import tree\n",
    "from sklearn.ensemble import AdaBoostClassifier\n"
   ]
  },
  {
   "cell_type": "code",
   "execution_count": 12,
   "metadata": {},
   "outputs": [
    {
     "name": "stdout",
     "output_type": "stream",
     "text": [
      "0.9333333333333333\n"
     ]
    }
   ],
   "source": [
    "boost_model = AdaBoostClassifier(\n",
    "        base_estimator= tree.DecisionTreeClassifier(),\n",
    "        n_estimators= 20\n",
    "        \n",
    "    )\n",
    "\n",
    "boost_model.fit(xtrain,ytrain)\n",
    "print(boost_model.score(xtest,ytest))"
   ]
  }
 ],
 "metadata": {
  "interpreter": {
   "hash": "c94be41889154d41bf43aca8d1a8d1cd64b97c119170e03e2ed46ca87183f0c5"
  },
  "kernelspec": {
   "display_name": "Python 3.9.7 ('base')",
   "language": "python",
   "name": "python3"
  },
  "language_info": {
   "codemirror_mode": {
    "name": "ipython",
    "version": 3
   },
   "file_extension": ".py",
   "mimetype": "text/x-python",
   "name": "python",
   "nbconvert_exporter": "python",
   "pygments_lexer": "ipython3",
   "version": "3.9.7"
  },
  "orig_nbformat": 4
 },
 "nbformat": 4,
 "nbformat_minor": 2
}
